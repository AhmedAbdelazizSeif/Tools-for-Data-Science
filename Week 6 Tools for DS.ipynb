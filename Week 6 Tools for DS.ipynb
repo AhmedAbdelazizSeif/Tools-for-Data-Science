{
 "cells": [
  {
   "cell_type": "markdown",
   "metadata": {},
   "source": [
    "# Tools for Data Science\n",
    "## Week 6"
   ]
  },
  {
   "cell_type": "markdown",
   "metadata": {},
   "source": [
    "Introduction to Data Science and its Tools: Peer Graded Assignment\n",
    "\n",
    "Welcome to this Jupyter Notebook, designed for the peer graded assignment of the Data Science and its Tools course. In this assignment, we will explore the exciting field of Data Science and the tools commonly used by data scientists to extract valuable insights from data.\n",
    "\n",
    "Data Science is a multidisciplinary field that combines various techniques, algorithms, and tools to uncover patterns, make predictions, and gain meaningful insights from complex datasets. It involves the process of collecting, cleaning, analyzing, and interpreting data to make informed decisions and solve real-world problems.\n",
    "\n",
    "Throughout this notebook, we will be utilizing Jupyter, an interactive computing environment, to perform data analysis, visualization, and coding tasks. Jupyter notebooks provide a flexible and collaborative platform for writing and executing code, displaying visualizations, and documenting our analysis in a single environment.\n",
    "\n",
    "Furthermore, we will also explore other essential tools commonly used in Data Science, such as Python, a versatile programming language known for its rich libraries and frameworks for data manipulation and analysis. Additionally, we may leverage libraries like Pandas, NumPy, and Matplotlib, which are widely used for data processing, numerical computations, and visualization tasks.\n",
    "\n",
    "Let's dive into the fascinating world of Data Science and its tools!"
   ]
  },
  {
   "cell_type": "markdown",
   "metadata": {},
   "source": [
    "### Data Science Languages\n",
    "<ol>\n",
    "    <li>Python</li>\n",
    "    <li>R</li>\n",
    "    <li>SQL</li>\n",
    "    <li>Scala</li>\n",
    "    <li>Julia</li>\n",
    "    <li>Javascript</li>\n",
    "</ol>"
   ]
  },
  {
   "cell_type": "markdown",
   "metadata": {},
   "source": [
    "### Data Science Libraries\n",
    "<ol>\n",
    "    <li>Scikit Learn</li>\n",
    "    <li>Pandas</li>\n",
    "    <li>Tensorflow</li>\n",
    "    <li>Natural Language ToolKit</li>\n",
    "    <li>ggplot in <i>R</i></li>\n",
    "    <li>dplyr in <i>R</i></li>\n",
    "</ol>"
   ]
  },
  {
   "cell_type": "markdown",
   "metadata": {},
   "source": [
    "### Data Science Tools and Tasks\n",
    "<table>\n",
    "  <tr>\n",
    "    <th colspan=\"2\"><strong>The Data Science Task Categories</strong></th>\n",
    "  </tr>\n",
    "  <tr>\n",
    "    <td>Data Management</td>\n",
    "    <td>Storage, management, and retrieval of data</td>\n",
    "  </tr>\n",
    "  <tr>\n",
    "    <td>Data Integration and Transformation</td>\n",
    "    <td>Streamline data pipelines and automate data processing tasks</td>\n",
    "  </tr>\n",
    "  <tr>\n",
    "    <td>Data Visualization</td>\n",
    "    <td>Provide graphical representation of data and assist with communicating insights</td>\n",
    "  </tr>\n",
    "  <tr>\n",
    "    <td>Modelling</td>\n",
    "    <td>Enable building, deployment, monitoring, and assessment of data and machine learning models</td>\n",
    "  </tr>\n",
    "  <tr>\n",
    "    <th colspan=\"2\"><strong>Data Science Tasks</strong></th>\n",
    "  </tr>\n",
    "  <tr>\n",
    "    <td>Code Asset Management</td>\n",
    "    <td>Store and manage code, track changes, and allow collaborative development</td>\n",
    "  </tr>\n",
    "  <tr>\n",
    "    <td>Data Asset Management</td>\n",
    "    <td>Organize and manage data, provide access control, and backup assets</td>\n",
    "  </tr>\n",
    "  <tr>\n",
    "    <td>Development Environments</td>\n",
    "    <td>Develop, test, and deploy code</td>\n",
    "  </tr>\n",
    "  <tr>\n",
    "    <td>Execution Environments</td>\n",
    "    <td>Provide computational resources and run the code</td>\n",
    "  </tr>\n",
    "  <tr>\n",
    "    <th colspan=\"2\"><strong>Data Management Tools</strong></th>\n",
    "  </tr>\n",
    "  <tr>\n",
    "    <td>Relational Databases</td>\n",
    "    <td>MySQL, PostgreSQL, IBM Db2, SQL Server</td>\n",
    "  </tr>\n",
    "  <tr>\n",
    "    <td>NoSQL Databases</td>\n",
    "    <td>MongoDB, Apache Cassandra</td>\n",
    "  </tr>\n",
    "  <tr>\n",
    "    <td>Big Data Platforms</td>\n",
    "    <td>Apache Hadoop, Apache Spark</td>\n",
    "  </tr>\n",
    "  <tr>\n",
    "    <th colspan=\"2\"><strong>Data Integration and Transformation Tools</strong></th>\n",
    "  </tr>\n",
    "  <tr>\n",
    "    <td>Apache Airflow</td>\n",
    "    <td>Orchestrating and scheduling complex data workflows and pipelines.</td>\n",
    "  </tr>\n",
    "  <tr>\n",
    "    <td>Apache Kafka</td>\n",
    "    <td>Building scalable and fault-tolerant real-time streaming platforms</td>\n",
    "  </tr>\n",
    "  <tr>\n",
    "    <th colspan=\"2\"><strong>Data Visualization Tools</strong></th>\n",
    "  </tr>\n",
    "  <tr>\n",
    "    <td>Commercial Offerings</td>\n",
    "    <td>Cognos Analytics, Tableau, PowerBI</td>\n",
    "  </tr>\n",
    "  <tr>\n",
    "    <th colspan=\"2\"><strong>Code Asset Management Tools</strong></th>\n",
    "  </tr>\n",
    "  <tr>\n",
    "    <td>Git</td>\n",
    "    <td>Distributed version control system used for tracking changes, collaborating on code, and managing software development projects</td>\n",
    "  </tr>\n",
    "  <tr>\n",
    "    <td>GitHub</td>\n",
    "    <td>Web-based platform for storing and managing source code</td>\n",
    "  </tr>\n",
    "  <tr>\n",
    "    <th colspan=\"2\"><strong>Development Environments</strong></th>\n",
    "  </tr>\n",
    "  <tr>\n",
    "    <td>Jupyter Notebooks</td>\n",
    "    <td>An interactive computing environment used for creating and sharing documents that contain live code, visualizations, and narrative text</td>\n",
    "  </tr>\n",
    "  <tr>\n",
    "    <td>RStudio</td>\n",
    "    <td>An integrated development environment (IDE) designed for the R programming language, providing tools for coding, debugging, and data analysis</td>\n",
    "  </tr>\n",
    "</table>\n"
   ]
  },
  {
   "cell_type": "markdown",
   "metadata": {},
   "source": [
    "### Arithmetic Expressions\n",
    "Let's dive into some examples to illustrate arithmetic expressions and their results:\n",
    "\n",
    "Addition: **2 + 3 = 5**\n",
    "In this example, we add the numbers 2 and 3 together, resulting in 5.\n",
    "\n",
    "Subtraction: **7 - 4 = 3**\n",
    "Here, we subtract 4 from 7, resulting in 3.\n",
    "\n",
    "Multiplication: **5 * 6 = 30**\n",
    "Multiplying 5 by 6 gives us the result of 30.\n",
    "\n",
    "Division: **10 / 2 = 5**\n",
    "When we divide 10 by 2, the quotient is 5.\n",
    "\n",
    "**Arithmetic expressions** can also include parentheses **()** to prioritize operations and create more complex calculations. For example:\n",
    "**(2 + 3) * 4 = 20**\n",
    "Here, we first add 2 and 3 together, resulting in 5. Then, we multiply this sum by 4, giving us the final result of 20."
   ]
  },
  {
   "cell_type": "markdown",
   "metadata": {},
   "source": [
    "### A test on arithmetic expressions and functions"
   ]
  },
  {
   "cell_type": "code",
   "execution_count": 1,
   "metadata": {},
   "outputs": [
    {
     "data": {
      "text/plain": [
       "'let x=2 and y=3, The Addition is 5, and the Multiplication is 6'"
      ]
     },
     "execution_count": 1,
     "metadata": {},
     "output_type": "execute_result"
    }
   ],
   "source": [
    "def multiply(a,b):\n",
    "    return a*b\n",
    "def add(a,b):\n",
    "    return a+b\n",
    "f'let x=2 and y=3, The Addition is {add(2,3)}, and the Multiplication is {multiply(2,3)}'"
   ]
  },
  {
   "cell_type": "markdown",
   "metadata": {},
   "source": [
    "### Determine hours in terms of minutes"
   ]
  },
  {
   "cell_type": "code",
   "execution_count": 2,
   "metadata": {},
   "outputs": [
    {
     "data": {
      "text/plain": [
       "\"We have 200 minutes and we want to know how many hours are these and simply it's just 3:20 hours\""
      ]
     },
     "execution_count": 2,
     "metadata": {},
     "output_type": "execute_result"
    }
   ],
   "source": [
    "def minutes_to_hours(mins):\n",
    "    return divmod(mins,60)\n",
    "f\"We have 200 minutes and we want to know how many hours are these and simply it's just {minutes_to_hours(200)[0]}:{minutes_to_hours(200)[1]} hours\""
   ]
  },
  {
   "cell_type": "markdown",
   "metadata": {},
   "source": [
    "### Determine minutes in terms of hours"
   ]
  },
  {
   "cell_type": "code",
   "execution_count": 3,
   "metadata": {},
   "outputs": [
    {
     "data": {
      "text/plain": [
       "\"We have 9 hours and we want to know how many minutes are these and simply it's just 540 minutes\""
      ]
     },
     "execution_count": 3,
     "metadata": {},
     "output_type": "execute_result"
    }
   ],
   "source": [
    "def hours_to_minutes(hrs):\n",
    "    return hrs*60\n",
    "f\"We have 9 hours and we want to know how many minutes are these and simply it's just {hours_to_minutes(9)} minutes\""
   ]
  },
  {
   "cell_type": "markdown",
   "metadata": {},
   "source": [
    "This Notebook is intended to show the following exercises\n",
    "<ul>\n",
    "<li>Exercise 2 - Create a markdown cell with the title of the notebook.</li>\n",
    "\n",
    "<li>Exercise 3 - Create a markdown cell for an introduction.</li>\n",
    "\n",
    "<li>Exercise 4 - Create a markdown cell to list data science languages.</li>\n",
    "\n",
    "<li>Exercise 5 - Create a markdown cell to list data science libraries.</li>\n",
    "\n",
    "<li>Exercise 6 - Create a markdown cell with a table of Data Science tools.</li>\n",
    "\n",
    "<li>Exercise 7 - Create a markdown cell introducing arithmetic expression examples.</li>\n",
    "\n",
    "<li>Exercise 8 - Create a code cell to multiply and add numbers.</li>\n",
    "\n",
    "<li>Exercise 9 - Create a code cell to convert minutes to hours.</li>\n",
    "\n",
    "<li>Exercise 10 -Insert a markdown cell to list Objectives.</li>\n",
    "\n",
    "<li>Exercise 11 - Create a markdown cell to indicate the Author’s name.</li>\n",
    "\n",
    "<li>Exercise 12 - Share your notebook through GitHub</li>\n",
    "\n",
    "<li>Exercise 13 - Take a screenshot of the first page of the notebook.</li>\n",
    "    </ul>"
   ]
  },
  {
   "cell_type": "markdown",
   "metadata": {},
   "source": [
    "### Author Name: Ahmed Seif"
   ]
  }
 ],
 "metadata": {
  "kernelspec": {
   "display_name": "Python 3 (ipykernel)",
   "language": "python",
   "name": "python3"
  },
  "language_info": {
   "codemirror_mode": {
    "name": "ipython",
    "version": 3
   },
   "file_extension": ".py",
   "mimetype": "text/x-python",
   "name": "python",
   "nbconvert_exporter": "python",
   "pygments_lexer": "ipython3",
   "version": "3.10.9"
  }
 },
 "nbformat": 4,
 "nbformat_minor": 4
}
